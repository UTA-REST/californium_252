{
 "cells": [
  {
   "cell_type": "code",
   "execution_count": 6,
   "metadata": {},
   "outputs": [],
   "source": [
    "# the python enviroment is 3.6 this is for the version of \n",
    "# pyne that was able to get\n",
    "# you will need to instal pyne for this \n",
    "# if you have anaconda\n",
    "# conda install -c conda-forge pyne\n",
    "\n",
    "from pyne import data\n",
    "from pyne import nucname\n",
    "import numpy as np\n",
    "import re"
   ]
  },
  {
   "cell_type": "code",
   "execution_count": null,
   "metadata": {},
   "outputs": [],
   "source": []
  },
  {
   "cell_type": "code",
   "execution_count": 2,
   "metadata": {},
   "outputs": [],
   "source": [
    "# imports the Californium fision yeild data\n",
    "Data_file = np.loadtxt(\"Cf_data/Cf_raw.txt\",skiprows=4)\n",
    "# splits it into Z, N and yeild\n",
    "Z_number  = Data_file[:,0]\n",
    "N_number  = Data_file[:,1]\n",
    "Yeild     = Data_file[:,2]\n",
    "# sets a yeild threshold \n",
    "Keepers = np.where(Yeild>1e-3) # index where the yeild is above the cut\n",
    "# Ones that pass the yeild cut \n",
    "Z_pass = Z_number[Keepers]\n",
    "N_pass = N_number[Keepers]\n",
    "Y_pass = Yeild[Keepers]\n",
    "# make dictonary of the yeild\n",
    "Z_unique = np.unique(Z_pass)\n",
    "Californium_Fisssion_Yeild = {}\n",
    "\n",
    "# this look looks at the unique Z and calculates the mass number(Z+N)\n",
    "# and adds the name to the dictonary\n",
    "for Z in Z_unique:\n",
    "    loc = np.where(Z_pass == Z)[0]\n",
    "    Mass = N_pass[loc] + Z\n",
    "    ele = nucname.name(int(Z))\n",
    "    yel = Y_pass[loc]\n",
    "    for q in range(0,len(Mass)):        \n",
    "        element = ele+str(int(Mass[q]))\n",
    "        Californium_Fisssion_Yeild[element] = yel[q]\n",
    "# the keys are like a list of the elements californium makes\n",
    "# this is ordered from snallest Z to largest this is because when things beta decay \n",
    "# Z gets bigger so you automaticly get the later Z's\n",
    "KEYS = Californium_Fisssion_Yeild.keys()\n"
   ]
  },
  {
   "cell_type": "code",
   "execution_count": null,
   "metadata": {},
   "outputs": [],
   "source": []
  },
  {
   "cell_type": "code",
   "execution_count": null,
   "metadata": {},
   "outputs": [],
   "source": []
  },
  {
   "cell_type": "code",
   "execution_count": 3,
   "metadata": {
    "scrolled": true
   },
   "outputs": [],
   "source": [
    "# this looks throught all of the californium elements and makes a cummlitave yeild \n",
    "\n",
    "# this is the cut for half life stabality\n",
    "days10   = 864000 # seconds\n",
    "#Parent   = [\"Sm159\",\"Eu159\"]\n",
    "\n",
    "Parent = KEYS\n",
    "Steadt_State_Fisssion_Yeild = {}\n",
    "# Loop over all Californium elements\n",
    "for P in Parent:\n",
    "    yell = 0.0\n",
    "    Stable = True\n",
    "    # this avoids the double counting by looking if the element was already passed \n",
    "    if (P in Steadt_State_Fisssion_Yeild.keys()): # checks if already in the dict\n",
    "        continue\n",
    "    yell += Californium_Fisssion_Yeild[P]\n",
    "    Steadt_State_Fisssion_Yeild[P] = round(yell,6)\n",
    "    #print(P)\n",
    "    #print(round(yell,6))\n",
    "\n",
    "    # this while loop is for the stability cut so you dont go all the way down the chain.\n",
    "    while (Stable == True):\n",
    "        # this gives a list of the children it need to be decoded by nucname.name\n",
    "        Children = data.decay_children(P)\n",
    "        for x in Children:\n",
    "            yy=0\n",
    "            # get teh chiald name, half life, and branching ratio\n",
    "            name = nucname.name(x)\n",
    "            HL = data.half_life(name)\n",
    "            BR = data.branch_ratio(P,name)\n",
    "            \n",
    "            if ((HL < days10) and (BR>0.7)):\n",
    "                if (name in KEYS):\n",
    "                    yy = Californium_Fisssion_Yeild[name]# checks if cf makes it\n",
    "                P = name\n",
    "                \n",
    "            if (HL>=days10) and (BR>0.7):\n",
    "                if (name in KEYS):\n",
    "                    yy = Californium_Fisssion_Yeild[name]# checks if cf makes it\n",
    "                P = name\n",
    "                Stable = False\n",
    "\n",
    "            if (P in Steadt_State_Fisssion_Yeild.keys()):# checks if already in the dict\n",
    "                continue\n",
    "            #print(P)\n",
    "            yell += yy\n",
    "            #print(round(yell,6))\n",
    "            Steadt_State_Fisssion_Yeild[P] = round(yell,6)\n",
    "            \n",
    "            "
   ]
  },
  {
   "cell_type": "code",
   "execution_count": null,
   "metadata": {},
   "outputs": [],
   "source": []
  },
  {
   "cell_type": "code",
   "execution_count": null,
   "metadata": {},
   "outputs": [],
   "source": []
  },
  {
   "cell_type": "code",
   "execution_count": 4,
   "metadata": {},
   "outputs": [
    {
     "name": "stdout",
     "output_type": "stream",
     "text": [
      "Number of Cf252 fission decays in 1 min =  38.9592\n",
      "****************************\n",
      "Number of Ba138 decays 2.167\n",
      "Number of Ba139 decays 2.31\n",
      "Number of Ba140 decays 2.342\n",
      "Number of Ba141 decays 2.321\n",
      "Number of Ba142 decays 2.201\n",
      "****************************\n",
      "Total barium decays  11.341\n"
     ]
    }
   ],
   "source": [
    "# this goes though the steady state dictonary and pulls all isotopes\n",
    "# that you want to search for \n",
    "\n",
    "# this sets up a time and the given source activity\n",
    "Time_Passes =  60# 1 minuet\n",
    "Source_Activity = 42 # in Bq\n",
    "Number_of_Fissions = (Source_Activity*0.03092 * Time_Passes)/2 # the /2 is for the solid angle \n",
    "\n",
    "HalfLife = 3*60 # this is a hallife cut\n",
    "print(\"Number of Cf252 fission decays in 1 min = \",Number_of_Fissions)\n",
    "print(\"****************************\")\n",
    "\n",
    "NUM = 0\n",
    "search = \"Ba\"\n",
    "for elm in Steadt_State_Fisssion_Yeild.keys():\n",
    "    HL = data.half_life(elm)\n",
    "    el = re.split('\\d+', elm)[0]\n",
    "    if (el == search) and (HL>HalfLife):\n",
    "        num = round(Steadt_State_Fisssion_Yeild[elm]*Number_of_Fissions,3)\n",
    "        outs = \"Number of \"+elm+\" decays \"+str(num)\n",
    "        print(outs)\n",
    "        NUM+=num\n",
    "        \n",
    "\n",
    "print(\"****************************\")\n",
    "print(\"Total barium decays \",round(NUM,3))   "
   ]
  },
  {
   "cell_type": "code",
   "execution_count": null,
   "metadata": {},
   "outputs": [],
   "source": []
  },
  {
   "cell_type": "code",
   "execution_count": null,
   "metadata": {},
   "outputs": [],
   "source": []
  },
  {
   "cell_type": "code",
   "execution_count": null,
   "metadata": {},
   "outputs": [],
   "source": []
  },
  {
   "cell_type": "code",
   "execution_count": null,
   "metadata": {},
   "outputs": [],
   "source": []
  },
  {
   "cell_type": "code",
   "execution_count": null,
   "metadata": {},
   "outputs": [],
   "source": []
  },
  {
   "cell_type": "code",
   "execution_count": null,
   "metadata": {},
   "outputs": [],
   "source": []
  },
  {
   "cell_type": "code",
   "execution_count": null,
   "metadata": {},
   "outputs": [],
   "source": []
  },
  {
   "cell_type": "code",
   "execution_count": null,
   "metadata": {},
   "outputs": [],
   "source": []
  },
  {
   "cell_type": "code",
   "execution_count": null,
   "metadata": {},
   "outputs": [],
   "source": []
  },
  {
   "cell_type": "code",
   "execution_count": null,
   "metadata": {},
   "outputs": [],
   "source": []
  },
  {
   "cell_type": "code",
   "execution_count": null,
   "metadata": {},
   "outputs": [],
   "source": [
    "### old but for refrence \n",
    "\n",
    "coll =  60#1800\n",
    "decayy = (1000*0.03092 * coll)\n",
    "decayy = (42*0.03092 * coll)\n",
    "\n",
    "print(\"Total Cf252 fission decays in 1 min is\",decayy)\n",
    "\n",
    "Ba138_tot = Californium_Fisssion_Yeild[\"I138\"]+Californium_Fisssion_Yeild[\"Xe138\"]+Californium_Fisssion_Yeild[\"Cs138\"]\n",
    "Ba138_tot *=decayy/2\n",
    "print(\"Barium 138 total \", round(Ba138_tot,3))\n",
    "\n",
    "Ba139_tot = Californium_Fisssion_Yeild[\"I139\"]+Californium_Fisssion_Yeild[\"Xe139\"]+Californium_Fisssion_Yeild[\"Cs139\"]+Californium_Fisssion_Yeild[\"Ba139\"]\n",
    "Ba139_tot *=decayy/2\n",
    "print(\"Barium 139 total \", round(Ba139_tot,3))\n",
    "\n",
    "Ba140_tot = Californium_Fisssion_Yeild[\"I140\"]+Californium_Fisssion_Yeild[\"Xe140\"]+Californium_Fisssion_Yeild[\"Cs140\"]+Californium_Fisssion_Yeild[\"Ba140\"]\n",
    "Ba140_tot *=decayy/2\n",
    "print(\"Barium 140 total \", round(Ba140_tot,3))\n",
    "\n",
    "Ba141_tot = Californium_Fisssion_Yeild[\"Xe141\"]+Californium_Fisssion_Yeild[\"Cs141\"]+Californium_Fisssion_Yeild[\"Ba141\"]\n",
    "Ba141_tot *=decayy/2\n",
    "print(\"Barium 141 total \", round(Ba141_tot,3))\n",
    "\n",
    "Ba142_tot = Californium_Fisssion_Yeild[\"Xe142\"]+Californium_Fisssion_Yeild[\"Cs142\"]+Californium_Fisssion_Yeild[\"Ba142\"]\n",
    "Ba142_tot *=decayy/2\n",
    "print(\"Barium 142 total \", round(Ba142_tot,3))\n",
    "print(\"************************\")\n",
    "tot = Ba138_tot+Ba139_tot+Ba140_tot+Ba141_tot+Ba142_tot\n",
    "print(\"Total Barium = \",round(tot,3))\n"
   ]
  },
  {
   "cell_type": "code",
   "execution_count": null,
   "metadata": {},
   "outputs": [],
   "source": []
  },
  {
   "cell_type": "code",
   "execution_count": null,
   "metadata": {},
   "outputs": [],
   "source": []
  }
 ],
 "metadata": {
  "kernelspec": {
   "display_name": "Python 3",
   "language": "python",
   "name": "python3"
  },
  "language_info": {
   "codemirror_mode": {
    "name": "ipython",
    "version": 3
   },
   "file_extension": ".py",
   "mimetype": "text/x-python",
   "name": "python",
   "nbconvert_exporter": "python",
   "pygments_lexer": "ipython3",
   "version": "3.6.10"
  }
 },
 "nbformat": 4,
 "nbformat_minor": 2
}
