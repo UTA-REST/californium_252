{
 "cells": [
  {
   "cell_type": "code",
   "execution_count": 1,
   "metadata": {},
   "outputs": [],
   "source": [
    "##Element Ionization Energy Dictonary"
   ]
  },
  {
   "cell_type": "code",
   "execution_count": null,
   "metadata": {},
   "outputs": [],
   "source": []
  },
  {
   "cell_type": "code",
   "execution_count": 2,
   "metadata": {},
   "outputs": [],
   "source": [
    "Periodic_Table = {\n",
    "    \"Be\": {\"First Ionization\":9.322 , \"Second Ionization\":18.211 , \"Third Ionization\":153.893 },\n",
    "    \"B\":  {\"First Ionization\":8.298 , \"Second Ionization\":25.154 , \"Third Ionization\":37.93 },\n",
    "    \"C\":  {\"First Ionization\":11.260, \"Second Ionization\":24.383 , \"Third Ionization\":47.887 },\n",
    "    \"N\":  {\"First Ionization\":14.534, \"Second Ionization\":29.601 , \"Third Ionization\":47.448 },\n",
    "    \"O\":  {\"First Ionization\":13.618 , \"Second Ionization\":35.117 , \"Third Ionization\":54.934 },\n",
    "    \"F\":  {\"First Ionization\":17.423 , \"Second Ionization\":34.97 , \"Third Ionization\":62.707 },\n",
    "    \"Ne\": {\"First Ionization\":21.565 , \"Second Ionization\":40.962 , \"Third Ionization\":63.45 },\n",
    "    \n",
    "    \"Na\": {\"First Ionization\":5.139 , \"Second Ionization\":47.286 , \"Third Ionization\":71.641 },\n",
    "    \"Mg\": {\"First Ionization\":7.646 , \"Second Ionization\":15.035 , \"Third Ionization\":80.143 },\n",
    "    \"Al\": {\"First Ionization\":5.986 , \"Second Ionization\":18.828 , \"Third Ionization\":28.447 },\n",
    "    \"Si\": {\"First Ionization\":8.152 , \"Second Ionization\":16.345 , \"Third Ionization\":33.492 },\n",
    "    \"P\":  {\"First Ionization\":10.487 , \"Second Ionization\":19.725 , \"Third Ionization\":30.18 },\n",
    "    \"S\":  {\"First Ionization\":10.36 , \"Second Ionization\":23.33 , \"Third Ionization\":34.83 },\n",
    "    \"Cl\": {\"First Ionization\":12.968, \"Second Ionization\":23.81 , \"Third Ionization\":39.611 },\n",
    "    \"Ar\": {\"First Ionization\":15.759, \"Second Ionization\":27.629 , \"Third Ionization\":40.74 },\n",
    "    \n",
    "    \"K\":  {\"First Ionization\":4.341 , \"Second Ionization\":31.625 , \"Third Ionization\":45.72 },\n",
    "    \"Ca\": {\"First Ionization\":6.113 , \"Second Ionization\":11.871 , \"Third Ionization\":50.908 },\n",
    "    \"Sc\": {\"First Ionization\":6.561 , \"Second Ionization\":12.8 , \"Third Ionization\":24.76 },\n",
    "    \"Ti\": {\"First Ionization\":6.828 , \"Second Ionization\":13.58 , \"Third Ionization\":27.491 },\n",
    "    \"V\":  {\"First Ionization\":6.746, \"Second Ionization\":14.65 , \"Third Ionization\":29.31 },\n",
    "    \"Cr\": {\"First Ionization\":6.766, \"Second Ionization\":16.5 , \"Third Ionization\":30.96 },\n",
    "    \n",
    "    \"Mn\": {\"First Ionization\":7.434, \"Second Ionization\":15.64 , \"Third Ionization\":33.667 },\n",
    "    \"Fe\": {\"First Ionization\":7.902, \"Second Ionization\":16.18 , \"Third Ionization\":30.651 },\n",
    "    \"Co\": {\"First Ionization\":7.881, \"Second Ionization\":17.06 , \"Third Ionization\":33.5 },\n",
    "    \"Ni\": {\"First Ionization\":7.639, \"Second Ionization\":18.168 , \"Third Ionization\":35.17},\n",
    "  \n",
    "    \"Cu\": {\"First Ionization\":7.726 , \"Second Ionization\":20.292 , \"Third Ionization\":36.83 },\n",
    "    \"Zn\": {\"First Ionization\":9.394 , \"Second Ionization\":17.964 , \"Third Ionization\":39.722 },\n",
    "    \"Ga\": {\"First Ionization\":5.999 , \"Second Ionization\":20.51 , \"Third Ionization\":30.71 },\n",
    "    \"B\":  {\"First Ionization\":8.298 , \"Second Ionization\":25.154 , \"Third Ionization\":37.93 },\n",
    "    \"Ge\": {\"First Ionization\":7.9, \"Second Ionization\":15.934 , \"Third Ionization\":34.22 },\n",
    "    \"As\": {\"First Ionization\":9.815, \"Second Ionization\":18.633 , \"Third Ionization\":28.351},\n",
    "    \"Se\": {\"First Ionization\":9.752, \"Second Ionization\":21.19 , \"Third Ionization\":30.82 },\n",
    "    \"Br\": {\"First Ionization\":11.813, \"Second Ionization\":21.8 , \"Third Ionization\":36.0 },\n",
    "    \"Kr\": {\"First Ionization\":13.999, \"Second Ionization\":24.359 , \"Third Ionization\":36.95 },\n",
    "    \n",
    "    \"Rb\": {\"First Ionization\":4.177 , \"Second Ionization\":27.28 , \"Third Ionization\":40.0 },\n",
    "    \"Sr\": {\"First Ionization\":5.695 , \"Second Ionization\":11.03 , \"Third Ionization\":43.6 },\n",
    "    \"Y\":  {\"First Ionization\":6.217 , \"Second Ionization\":12.24 , \"Third Ionization\":20.52 },\n",
    "    \"Zr\": {\"First Ionization\":6.634 , \"Second Ionization\":13.13 , \"Third Ionization\":22.99 },\n",
    "    \"Nb\": {\"First Ionization\":6.759 , \"Second Ionization\":14.32 , \"Third Ionization\":25.04 },\n",
    "    \"Mo\": {\"First Ionization\":7.092 , \"Second Ionization\":16.461 , \"Third Ionization\":27.16 },\n",
    "    \"Tc\": {\"First Ionization\":7.28 , \"Second Ionization\":15.26 , \"Third Ionization\":29.54 },\n",
    "    \"Ru\": {\"First Ionization\":7.361 , \"Second Ionization\":16.76 , \"Third Ionization\":28.47 },\n",
    "    \"Rh\": {\"First Ionization\":7.459 , \"Second Ionization\":18.08 , \"Third Ionization\":31.06 },\n",
    "    \"Pd\": {\"First Ionization\":8.337 , \"Second Ionization\":19.63 , \"Third Ionization\":32.93 },\n",
    "    \"Ag\": {\"First Ionization\":7.576 , \"Second Ionization\":21.49 , \"Third Ionization\":34.83 },\n",
    "    \"Cd\": {\"First Ionization\":8.994 , \"Second Ionization\":16.908 , \"Third Ionization\":37.48 },\n",
    "    \"In\": {\"First Ionization\":5.786 , \"Second Ionization\":18.869 , \"Third Ionization\":28.03 },\n",
    "    \"Sn\": {\"First Ionization\":7.344 , \"Second Ionization\":14.632 , \"Third Ionization\":30.502 },\n",
    "    \"Sb\": {\"First Ionization\":8.64 , \"Second Ionization\":16.53 , \"Third Ionization\":25.3 },\n",
    "    \"Te\": {\"First Ionization\":9.009 , \"Second Ionization\":18.6 , \"Third Ionization\":27.96 },\n",
    "    \"I\":  {\"First Ionization\":10.451 , \"Second Ionization\":19.131 , \"Third Ionization\":33.0 },\n",
    "    \"Xe\": {\"First Ionization\":12.129 , \"Second Ionization\":21.21 , \"Third Ionization\":32.1 },\n",
    "    \n",
    "    \"Cs\": {\"First Ionization\":3.894 , \"Second Ionization\":25.10 , \"Third Ionization\":0 },\n",
    "    \"Ba\": {\"First Ionization\":5.212 , \"Second Ionization\":10.004 , \"Third Ionization\":0 },\n",
    "    \"La\": {\"First Ionization\":5.577 , \"Second Ionization\":11.059 , \"Third Ionization\":19.174 },\n",
    "    \"Hf\": {\"First Ionization\":6.825 , \"Second Ionization\":14.925 , \"Third Ionization\":23.32 },\n",
    "    \"Ta\": {\"First Ionization\":7.89 , \"Second Ionization\":0 , \"Third Ionization\":0 },\n",
    "    \"W\": {\"First Ionization\":7.98 , \"Second Ionization\":2 , \"Third Ionization\":0 },\n",
    "    \"Re\": {\"First Ionization\":7.88 , \"Second Ionization\":2 , \"Third Ionization\":0 },\n",
    "    \"Os\": {\"First Ionization\":8.7 , \"Second Ionization\":2 , \"Third Ionization\":0 },\n",
    "    \"Ir\": {\"First Ionization\":9.1 , \"Second Ionization\":2 , \"Third Ionization\":0 },\n",
    "    \"Pt\": {\"First Ionization\":9.0 , \"Second Ionization\":18.563 , \"Third Ionization\":0 },\n",
    "    \"Au\": {\"First Ionization\":9.226 , \"Second Ionization\":20.521 , \"Third Ionization\":0 },\n",
    "    \"Hg\": {\"First Ionization\":10.438 , \"Second Ionization\":18.759 , \"Third Ionization\":34.202 },\n",
    "    \"Tl\": {\"First Ionization\":6.108 , \"Second Ionization\":20.428 , \"Third Ionization\":29.829 },\n",
    "    \"Pb\": {\"First Ionization\":7.417 , \"Second Ionization\":15.028 , \"Third Ionization\":31.943 },\n",
    "    \"Bi\": {\"First Ionization\":7.289 , \"Second Ionization\":16.687 , \"Third Ionization\":25.559 },\n",
    "    \"Po\": {\"First Ionization\":8.4167 , \"Second Ionization\":0 , \"Third Ionization\":0 },\n",
    "    \"At\": {\"First Ionization\":9.5 , \"Second Ionization\":0 , \"Third Ionization\":0 },\n",
    "    \"Rn\": {\"First Ionization\":10.749 , \"Second Ionization\":0 , \"Third Ionization\":0 },\n",
    "    \n",
    "    \"Ra\": {\"First Ionization\":5.279 , \"Second Ionization\":10.148 , \"Third Ionization\":0 },\n",
    "    \"Ac\": {\"First Ionization\":5.17 , \"Second Ionization\":10.148 , \"Third Ionization\":0 },\n",
    "    \"Ce\": {\"First Ionization\":5.539 , \"Second Ionization\":10.851 , \"Third Ionization\":20.2 },\n",
    "    \"Pr\": {\"First Ionization\":5.464 , \"Second Ionization\":10.551 , \"Third Ionization\":21.62 },\n",
    "    \"Nd\": {\"First Ionization\":5.525 , \"Second Ionization\":10.727 , \"Third Ionization\":22.076 },\n",
    "    \"Pm\": {\"First Ionization\":5.55 , \"Second Ionization\":10.903 , \"Third Ionization\":22.283 },\n",
    "    \"Sm\": {\"First Ionization\":5.644 , \"Second Ionization\":11.069 , \"Third Ionization\":23.423 },\n",
    "    \"Eu\": {\"First Ionization\":5.670 , \"Second Ionization\":11.245 , \"Third Ionization\":24.926 }, \n",
    "    \"Gd\": {\"First Ionization\":6.15 , \"Second Ionization\":12.095 , \"Third Ionization\":20.635 },\n",
    "    \"Tb\": {\"First Ionization\":5.864 , \"Second Ionization\":11.525 , \"Third Ionization\":21.91 }, \n",
    "    \"Dy\": {\"First Ionization\":5.939 , \"Second Ionization\":11.67 , \"Third Ionization\":22.802 },\n",
    "    \"Ho\": {\"First Ionization\":6.022 , \"Second Ionization\":11.805 , \"Third Ionization\":22.843 },\n",
    "    \"Er\": {\"First Ionization\":6.108 , \"Second Ionization\":11.929 , \"Third Ionization\":22.739 },\n",
    "    \"Tm\": {\"First Ionization\":6.184 , \"Second Ionization\":12.054 , \"Third Ionization\":26.367 },\n",
    "    \"Yb\": {\"First Ionization\":6.254 , \"Second Ionization\":12.188 , \"Third Ionization\":25.03 },\n",
    "    \"Lu\": {\"First Ionization\":5.426 , \"Second Ionization\":13.888 , \"Third Ionization\":20.957 },\n",
    "    \n",
    "    \"Th\": {\"First Ionization\":6.08 , \"Second Ionization\":11.504 , \"Third Ionization\":20.003 },\n",
    "    \"Pa\": {\"First Ionization\":5.89 , \"Second Ionization\":0 , \"Third Ionization\":0 },\n",
    "    \"U\": {\"First Ionization\":6.194 , \"Second Ionization\":0 , \"Third Ionization\":0 },\n",
    "    \"Np\": {\"First Ionization\":6.266 , \"Second Ionization\":0 , \"Third Ionization\":0 },\n",
    "    \"Pu\": {\"First Ionization\":6.06 , \"Second Ionization\":0 , \"Third Ionization\":0 },\n",
    "    \"Am\": {\"First Ionization\":5.993 , \"Second Ionization\":0 , \"Third Ionization\":0 },\n",
    "    \"Cm\": {\"First Ionization\":6.02 , \"Second Ionization\":0 , \"Third Ionization\":0 },\n",
    "    \"Bk\": {\"First Ionization\":6.23 , \"Second Ionization\":0 , \"Third Ionization\":0 },\n",
    "    \"Cf\": {\"First Ionization\":6.3 , \"Second Ionization\":0 , \"Third Ionization\":0 },\n",
    "    \"Es\": {\"First Ionization\":6.42 , \"Second Ionization\":0 , \"Third Ionization\":0 },\n",
    "    \"Fm\": {\"First Ionization\":6.5 , \"Second Ionization\":0 , \"Third Ionization\":0 },\n",
    "    \"Md\": {\"First Ionization\":6.58 , \"Second Ionization\":0 , \"Third Ionization\":0 },\n",
    "    \"No\": {\"First Ionization\":6.65 , \"Second Ionization\":0 , \"Third Ionization\":0 },\n",
    "    \n",
    "}"
   ]
  },
  {
   "cell_type": "code",
   "execution_count": 2,
   "metadata": {},
   "outputs": [
    {
     "data": {
      "text/plain": [
       "12.129"
      ]
     },
     "execution_count": 2,
     "metadata": {},
     "output_type": "execute_result"
    }
   ],
   "source": [
    "Periodic_Table['Xe']['First Ionization']"
   ]
  },
  {
   "cell_type": "code",
   "execution_count": 11,
   "metadata": {},
   "outputs": [
    {
     "data": {
      "text/plain": [
       "10.004"
      ]
     },
     "execution_count": 11,
     "metadata": {},
     "output_type": "execute_result"
    }
   ],
   "source": [
    "Periodic_Table['Ba']['Second Ionization']"
   ]
  },
  {
   "cell_type": "code",
   "execution_count": 5,
   "metadata": {},
   "outputs": [
    {
     "data": {
      "text/plain": [
       "12.095"
      ]
     },
     "execution_count": 5,
     "metadata": {},
     "output_type": "execute_result"
    }
   ],
   "source": [
    "Periodic_Table['Gd']['Second Ionization']"
   ]
  },
  {
   "cell_type": "code",
   "execution_count": 7,
   "metadata": {},
   "outputs": [
    {
     "data": {
      "text/plain": [
       "11.245"
      ]
     },
     "execution_count": 7,
     "metadata": {},
     "output_type": "execute_result"
    }
   ],
   "source": [
    "Periodic_Table['Eu']['Second Ionization']"
   ]
  },
  {
   "cell_type": "code",
   "execution_count": 8,
   "metadata": {},
   "outputs": [
    {
     "data": {
      "text/plain": [
       "11.069"
      ]
     },
     "execution_count": 8,
     "metadata": {},
     "output_type": "execute_result"
    }
   ],
   "source": [
    "Periodic_Table['Sm']['Second Ionization']"
   ]
  },
  {
   "cell_type": "code",
   "execution_count": 9,
   "metadata": {},
   "outputs": [
    {
     "data": {
      "text/plain": [
       "10.727"
      ]
     },
     "execution_count": 9,
     "metadata": {},
     "output_type": "execute_result"
    }
   ],
   "source": [
    "Periodic_Table['Nd']['Second Ionization']"
   ]
  },
  {
   "cell_type": "code",
   "execution_count": 12,
   "metadata": {},
   "outputs": [
    {
     "data": {
      "text/plain": [
       "10.851"
      ]
     },
     "execution_count": 12,
     "metadata": {},
     "output_type": "execute_result"
    }
   ],
   "source": [
    "Periodic_Table['Ce']['Second Ionization']"
   ]
  },
  {
   "cell_type": "code",
   "execution_count": 13,
   "metadata": {},
   "outputs": [
    {
     "data": {
      "text/plain": [
       "10.551"
      ]
     },
     "execution_count": 13,
     "metadata": {},
     "output_type": "execute_result"
    }
   ],
   "source": [
    "Periodic_Table['Pr']['Second Ionization']"
   ]
  },
  {
   "cell_type": "code",
   "execution_count": 14,
   "metadata": {},
   "outputs": [
    {
     "data": {
      "text/plain": [
       "11.059"
      ]
     },
     "execution_count": 14,
     "metadata": {},
     "output_type": "execute_result"
    }
   ],
   "source": [
    "Periodic_Table['La']['Second Ionization']"
   ]
  },
  {
   "cell_type": "code",
   "execution_count": 15,
   "metadata": {},
   "outputs": [
    {
     "data": {
      "text/plain": [
       "25.1"
      ]
     },
     "execution_count": 15,
     "metadata": {},
     "output_type": "execute_result"
    }
   ],
   "source": [
    "Periodic_Table['Cs']['Second Ionization']"
   ]
  },
  {
   "cell_type": "code",
   "execution_count": 16,
   "metadata": {},
   "outputs": [
    {
     "data": {
      "text/plain": [
       "19.131"
      ]
     },
     "execution_count": 16,
     "metadata": {},
     "output_type": "execute_result"
    }
   ],
   "source": [
    "Periodic_Table['I']['Second Ionization']"
   ]
  },
  {
   "cell_type": "code",
   "execution_count": 17,
   "metadata": {},
   "outputs": [
    {
     "data": {
      "text/plain": [
       "18.6"
      ]
     },
     "execution_count": 17,
     "metadata": {},
     "output_type": "execute_result"
    }
   ],
   "source": [
    "Periodic_Table['Te']['Second Ionization']"
   ]
  },
  {
   "cell_type": "code",
   "execution_count": null,
   "metadata": {},
   "outputs": [],
   "source": []
  },
  {
   "cell_type": "code",
   "execution_count": 3,
   "metadata": {},
   "outputs": [
    {
     "ename": "KeyError",
     "evalue": "'He'",
     "output_type": "error",
     "traceback": [
      "\u001b[0;31m---------------------------------------------------------------------------\u001b[0m",
      "\u001b[0;31mKeyError\u001b[0m                                  Traceback (most recent call last)",
      "\u001b[0;32m<ipython-input-3-fcac98565590>\u001b[0m in \u001b[0;36m<module>\u001b[0;34m\u001b[0m\n\u001b[1;32m      2\u001b[0m \u001b[0mKEYS\u001b[0m \u001b[0;34m=\u001b[0m \u001b[0mPeriodic_Table\u001b[0m\u001b[0;34m.\u001b[0m\u001b[0mkeys\u001b[0m\u001b[0;34m(\u001b[0m\u001b[0;34m)\u001b[0m\u001b[0;34m\u001b[0m\u001b[0;34m\u001b[0m\u001b[0m\n\u001b[1;32m      3\u001b[0m \u001b[0;32mfor\u001b[0m \u001b[0mKEY\u001b[0m \u001b[0;32min\u001b[0m \u001b[0mKEYS\u001b[0m\u001b[0;34m:\u001b[0m\u001b[0;34m\u001b[0m\u001b[0;34m\u001b[0m\u001b[0m\n\u001b[0;32m----> 4\u001b[0;31m     \u001b[0mXenon\u001b[0m \u001b[0;34m=\u001b[0m \u001b[0mPeriodic_Table\u001b[0m\u001b[0;34m[\u001b[0m\u001b[0;34m'He'\u001b[0m\u001b[0;34m]\u001b[0m\u001b[0;34m[\u001b[0m\u001b[0;34m'First Ionization'\u001b[0m\u001b[0;34m]\u001b[0m\u001b[0;34m\u001b[0m\u001b[0;34m\u001b[0m\u001b[0m\n\u001b[0m\u001b[1;32m      5\u001b[0m     \u001b[0mcon\u001b[0m \u001b[0;34m=\u001b[0m \u001b[0mPeriodic_Table\u001b[0m\u001b[0;34m[\u001b[0m\u001b[0mKEY\u001b[0m\u001b[0;34m]\u001b[0m\u001b[0;34m[\u001b[0m\u001b[0;34m'Second Ionization'\u001b[0m\u001b[0;34m]\u001b[0m\u001b[0;34m\u001b[0m\u001b[0;34m\u001b[0m\u001b[0m\n\u001b[1;32m      6\u001b[0m     \u001b[0;32mif\u001b[0m \u001b[0;34m(\u001b[0m\u001b[0mXenon\u001b[0m \u001b[0;34m>\u001b[0m \u001b[0mcon\u001b[0m\u001b[0;34m)\u001b[0m\u001b[0;34m:\u001b[0m\u001b[0;34m\u001b[0m\u001b[0;34m\u001b[0m\u001b[0m\n",
      "\u001b[0;31mKeyError\u001b[0m: 'He'"
     ]
    }
   ],
   "source": [
    "lll = []\n",
    "KEYS = Periodic_Table.keys()\n",
    "for KEY in KEYS:\n",
    "    Xenon = Periodic_Table['He']['First Ionization']\n",
    "    con = Periodic_Table[KEY]['Second Ionization']\n",
    "    if (Xenon > con):\n",
    "        lll.append(KEY)\n",
    "        print(KEY)\n",
    "        "
   ]
  },
  {
   "cell_type": "code",
   "execution_count": 9,
   "metadata": {},
   "outputs": [
    {
     "data": {
      "text/plain": [
       "['Mg',\n",
       " 'Ca',\n",
       " 'Sc',\n",
       " 'Ti',\n",
       " 'V',\n",
       " 'Mn',\n",
       " 'Sr',\n",
       " 'Y',\n",
       " 'Zr',\n",
       " 'Nb',\n",
       " 'Tc',\n",
       " 'Sn',\n",
       " 'Ba',\n",
       " 'La',\n",
       " 'Hf',\n",
       " 'Ta',\n",
       " 'W',\n",
       " 'Re',\n",
       " 'Os',\n",
       " 'Ir',\n",
       " 'Pb',\n",
       " 'Po',\n",
       " 'At',\n",
       " 'Rn',\n",
       " 'Ra',\n",
       " 'Ac',\n",
       " 'Ce',\n",
       " 'Pr',\n",
       " 'Nd',\n",
       " 'Pm',\n",
       " 'Sm',\n",
       " 'Eu',\n",
       " 'Gd',\n",
       " 'Tb',\n",
       " 'Dy',\n",
       " 'Ho',\n",
       " 'Er',\n",
       " 'Tm',\n",
       " 'Yb',\n",
       " 'Lu',\n",
       " 'Th',\n",
       " 'Pa',\n",
       " 'U',\n",
       " 'Np',\n",
       " 'Pu',\n",
       " 'Am',\n",
       " 'Cm',\n",
       " 'Bk',\n",
       " 'Cf',\n",
       " 'Es',\n",
       " 'Fm',\n",
       " 'Md',\n",
       " 'No']"
      ]
     },
     "execution_count": 9,
     "metadata": {},
     "output_type": "execute_result"
    }
   ],
   "source": [
    "lll"
   ]
  },
  {
   "cell_type": "code",
   "execution_count": null,
   "metadata": {},
   "outputs": [],
   "source": []
  },
  {
   "cell_type": "code",
   "execution_count": null,
   "metadata": {},
   "outputs": [],
   "source": []
  },
  {
   "cell_type": "code",
   "execution_count": null,
   "metadata": {},
   "outputs": [],
   "source": []
  },
  {
   "cell_type": "code",
   "execution_count": 4,
   "metadata": {},
   "outputs": [
    {
     "name": "stdout",
     "output_type": "stream",
     "text": [
      "Be\n",
      "C\n",
      "Mg\n",
      "Al\n",
      "Si\n",
      "P\n",
      "S\n",
      "Cl\n",
      "Ca\n",
      "Sc\n",
      "Ti\n",
      "V\n",
      "Cr\n",
      "Mn\n",
      "Fe\n",
      "Co\n",
      "Ni\n",
      "Cu\n",
      "Zn\n",
      "Ga\n",
      "Ge\n",
      "As\n",
      "Se\n",
      "Br\n",
      "Kr\n",
      "Sr\n",
      "Y\n",
      "Zr\n",
      "Nb\n",
      "Mo\n",
      "Tc\n",
      "Ru\n",
      "Rh\n",
      "Pd\n",
      "Ag\n",
      "Cd\n",
      "In\n",
      "Sn\n",
      "Sb\n",
      "Te\n",
      "I\n",
      "Xe\n",
      "Ba\n",
      "La\n",
      "Hf\n",
      "Ta\n",
      "W\n",
      "Re\n",
      "Os\n",
      "Ir\n",
      "Pt\n",
      "Au\n",
      "Hg\n",
      "Tl\n",
      "Pb\n",
      "Bi\n",
      "Po\n",
      "At\n",
      "Rn\n",
      "Ra\n",
      "Ac\n",
      "Ce\n",
      "Pr\n",
      "Nd\n",
      "Pm\n",
      "Sm\n",
      "Eu\n",
      "Gd\n",
      "Tb\n",
      "Dy\n",
      "Ho\n",
      "Er\n",
      "Tm\n",
      "Yb\n",
      "Lu\n",
      "Th\n",
      "Pa\n",
      "U\n",
      "Np\n",
      "Pu\n",
      "Am\n",
      "Cm\n",
      "Bk\n",
      "Cf\n",
      "Es\n",
      "Fm\n",
      "Md\n",
      "No\n"
     ]
    }
   ],
   "source": [
    "lll = []\n",
    "KEYS = Periodic_Table.keys()\n",
    "for KEY in KEYS:\n",
    "    Xenon = 24.6#Periodic_Table['He']['First Ionization']\n",
    "    con = Periodic_Table[KEY]['Second Ionization']\n",
    "    if (Xenon > con):\n",
    "        lll.append(KEY)\n",
    "        print(KEY)\n",
    "        "
   ]
  },
  {
   "cell_type": "code",
   "execution_count": 5,
   "metadata": {},
   "outputs": [
    {
     "data": {
      "text/plain": [
       "['Be',\n",
       " 'C',\n",
       " 'Mg',\n",
       " 'Al',\n",
       " 'Si',\n",
       " 'P',\n",
       " 'S',\n",
       " 'Cl',\n",
       " 'Ca',\n",
       " 'Sc',\n",
       " 'Ti',\n",
       " 'V',\n",
       " 'Cr',\n",
       " 'Mn',\n",
       " 'Fe',\n",
       " 'Co',\n",
       " 'Ni',\n",
       " 'Cu',\n",
       " 'Zn',\n",
       " 'Ga',\n",
       " 'Ge',\n",
       " 'As',\n",
       " 'Se',\n",
       " 'Br',\n",
       " 'Kr',\n",
       " 'Sr',\n",
       " 'Y',\n",
       " 'Zr',\n",
       " 'Nb',\n",
       " 'Mo',\n",
       " 'Tc',\n",
       " 'Ru',\n",
       " 'Rh',\n",
       " 'Pd',\n",
       " 'Ag',\n",
       " 'Cd',\n",
       " 'In',\n",
       " 'Sn',\n",
       " 'Sb',\n",
       " 'Te',\n",
       " 'I',\n",
       " 'Xe',\n",
       " 'Ba',\n",
       " 'La',\n",
       " 'Hf',\n",
       " 'Ta',\n",
       " 'W',\n",
       " 'Re',\n",
       " 'Os',\n",
       " 'Ir',\n",
       " 'Pt',\n",
       " 'Au',\n",
       " 'Hg',\n",
       " 'Tl',\n",
       " 'Pb',\n",
       " 'Bi',\n",
       " 'Po',\n",
       " 'At',\n",
       " 'Rn',\n",
       " 'Ra',\n",
       " 'Ac',\n",
       " 'Ce',\n",
       " 'Pr',\n",
       " 'Nd',\n",
       " 'Pm',\n",
       " 'Sm',\n",
       " 'Eu',\n",
       " 'Gd',\n",
       " 'Tb',\n",
       " 'Dy',\n",
       " 'Ho',\n",
       " 'Er',\n",
       " 'Tm',\n",
       " 'Yb',\n",
       " 'Lu',\n",
       " 'Th',\n",
       " 'Pa',\n",
       " 'U',\n",
       " 'Np',\n",
       " 'Pu',\n",
       " 'Am',\n",
       " 'Cm',\n",
       " 'Bk',\n",
       " 'Cf',\n",
       " 'Es',\n",
       " 'Fm',\n",
       " 'Md',\n",
       " 'No']"
      ]
     },
     "execution_count": 5,
     "metadata": {},
     "output_type": "execute_result"
    }
   ],
   "source": [
    "lll"
   ]
  },
  {
   "cell_type": "code",
   "execution_count": null,
   "metadata": {},
   "outputs": [],
   "source": []
  }
 ],
 "metadata": {
  "kernelspec": {
   "display_name": "Python 3",
   "language": "python",
   "name": "python3"
  },
  "language_info": {
   "codemirror_mode": {
    "name": "ipython",
    "version": 3
   },
   "file_extension": ".py",
   "mimetype": "text/x-python",
   "name": "python",
   "nbconvert_exporter": "python",
   "pygments_lexer": "ipython3",
   "version": "3.6.10"
  }
 },
 "nbformat": 4,
 "nbformat_minor": 2
}
